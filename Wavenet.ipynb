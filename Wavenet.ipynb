{
  "nbformat": 4,
  "nbformat_minor": 0,
  "metadata": {
    "colab": {
      "provenance": []
    },
    "kernelspec": {
      "name": "python3",
      "display_name": "Python 3"
    },
    "language_info": {
      "name": "python"
    }
  },
  "cells": [
    {
      "cell_type": "code",
      "execution_count": null,
      "metadata": {
        "id": "4IBW7CPJD4zB"
      },
      "outputs": [],
      "source": [
        "import torch\n",
        "import matplotlib.pyplot as plt\n",
        "import torch.nn.functional as F\n",
        "import random\n",
        "%matplotlib inline"
      ]
    },
    {
      "cell_type": "markdown",
      "source": [
        "- So far we have seen **different types of neural network architectures**, each with its own purpose.... However, there are proprietary **neural network architectures** that are used to handle **unstructured data or sequence data.**"
      ],
      "metadata": {
        "id": "9EKNXr8BEhdZ"
      }
    },
    {
      "cell_type": "code",
      "source": [
        "with open('/content/names.txt',mode='r',encoding ='utf-8') as f:\n",
        "  words=f.read().split()"
      ],
      "metadata": {
        "id": "XsS2AqQrEBwc"
      },
      "execution_count": null,
      "outputs": []
    },
    {
      "cell_type": "code",
      "source": [
        "vocab = sorted(set(list(''.join(words))))"
      ],
      "metadata": {
        "id": "fNOih8RzHLWq"
      },
      "execution_count": null,
      "outputs": []
    },
    {
      "cell_type": "code",
      "source": [
        "# build the vocabulary of characters and mapping to /from integers\n",
        "stoi = {s:i+1 for i , s in enumerate(vocab)}\n",
        "stoi['.'] = 0\n",
        "# reverse mapping\n",
        "itos = {i:s for  s,i in stoi.items()}"
      ],
      "metadata": {
        "id": "aCc_R7PFHNUU"
      },
      "execution_count": null,
      "outputs": []
    },
    {
      "cell_type": "code",
      "source": [
        "vocab_size = len(itos)"
      ],
      "metadata": {
        "id": "7bz0Mz67oNUm"
      },
      "execution_count": null,
      "outputs": []
    },
    {
      "cell_type": "code",
      "source": [
        "def build_dataset(words):\n",
        "\n",
        "  X,Y = [],[]\n",
        "\n",
        "  block_size = 3\n",
        "  context=[0]*block_size\n",
        "  for w in words:\n",
        "    for ch in w + '.':\n",
        "      ix = stoi[ch]\n",
        "      X.append(context)\n",
        "      Y.append(ix)\n",
        "      context=context[1:] + [ix]\n",
        "\n",
        "  X = torch.tensor(X)\n",
        "  Y = torch.tensor(Y)\n",
        "  print(X.shape,Y.shape)\n",
        "\n",
        "  return X,Y"
      ],
      "metadata": {
        "id": "WhFMYFU1HPrw"
      },
      "execution_count": null,
      "outputs": []
    },
    {
      "cell_type": "code",
      "source": [
        "block_size=3"
      ],
      "metadata": {
        "id": "ouCC3KJVHS4p"
      },
      "execution_count": null,
      "outputs": []
    },
    {
      "cell_type": "code",
      "source": [
        "random.seed(42)\n",
        "random.shuffle(words)\n",
        "n1 = int(0.8*len(words))\n",
        "n2 = int(0.9*len(words))\n",
        "\n",
        "Xtr,Ytr = build_dataset(words[:n1]) #  80%\n",
        "Xdev,Ydev = build_dataset(words[n1:n2]) #  10%\n",
        "Xte,yte = build_dataset(words[n2:]) # 10%"
      ],
      "metadata": {
        "colab": {
          "base_uri": "https://localhost:8080/"
        },
        "id": "X8tpoqHKHUuG",
        "outputId": "163054ae-71c3-489e-b27d-c19967806f73"
      },
      "execution_count": null,
      "outputs": [
        {
          "output_type": "stream",
          "name": "stdout",
          "text": [
            "torch.Size([182625, 3]) torch.Size([182625])\n",
            "torch.Size([22655, 3]) torch.Size([22655])\n",
            "torch.Size([22866, 3]) torch.Size([22866])\n"
          ]
        }
      ]
    },
    {
      "cell_type": "code",
      "source": [
        "for x,y  in zip(Xtr[:20],Ytr[:20]):\n",
        "  print(''.join(itos[ix.item()] for ix in x),'----->',itos[y.item()])"
      ],
      "metadata": {
        "colab": {
          "base_uri": "https://localhost:8080/"
        },
        "id": "FY58KxpbHp3y",
        "outputId": "3b2da807-6308-4ed5-a7fa-a8e41e8b88ab"
      },
      "execution_count": null,
      "outputs": [
        {
          "output_type": "stream",
          "name": "stdout",
          "text": [
            "... -----> y\n",
            "..y -----> u\n",
            ".yu -----> h\n",
            "yuh -----> e\n",
            "uhe -----> n\n",
            "hen -----> g\n",
            "eng -----> .\n",
            "ng. -----> d\n",
            "g.d -----> i\n",
            ".di -----> o\n",
            "dio -----> n\n",
            "ion -----> d\n",
            "ond -----> r\n",
            "ndr -----> e\n",
            "dre -----> .\n",
            "re. -----> x\n",
            "e.x -----> a\n",
            ".xa -----> v\n",
            "xav -----> i\n",
            "avi -----> e\n"
          ]
        }
      ]
    },
    {
      "cell_type": "code",
      "source": [
        "class Linear:\n",
        "\n",
        "  def __init__(self,fan_in, fan_out,bias=True):\n",
        "    self.weight = torch.randn((fan_in,fan_out))/fan_in**0.5\n",
        "    self.bias = torch.zeros(fan_out) if bias else None\n",
        "\n",
        "  def __call__(self,x):\n",
        "    self.out = x @ self.weight\n",
        "    if self.bias is not None:\n",
        "      self.out += self.bias\n",
        "    return self.out\n",
        "\n",
        "  def parameters(self):\n",
        "    return [self.weight] + ([] if self.bias is None else [self.bias])\n",
        "\n",
        "# -----------------------------------------------------\n",
        "\n",
        "class BactNorm1d:\n",
        "\n",
        "  def __init__(self,dim,eps = 1e-5 , momentun = 0.1):\n",
        "    self.eps = eps\n",
        "    self.dim = dim\n",
        "    self.training = True\n",
        "    self.momentun = momentun\n",
        "    self.gamma = torch.ones(dim)\n",
        "    self.beta = torch.zeros(dim)\n",
        "    self.running_mean = torch.zeros(dim)\n",
        "    self.running_var = torch.zeros(dim)\n",
        "\n",
        "  def __call__(self,x):\n",
        "    # calculate the forward pass\n",
        "    if self.training:\n",
        "      xmean = x.mean(axis = 0, keepdims = True) # batch mean\n",
        "      xvar  = x.var(axis = 0, keepdims = True,unbiased=False) # batch variance\n",
        "    else:\n",
        "      xmean = self.running_mean\n",
        "      xvar = self.running_var\n",
        "    xhat = (x - xmean) / torch.sqrt(xvar + self.eps)\n",
        "    self.out = self.gamma * xhat + self.beta\n",
        "    # update the buffers\n",
        "    if self.training:\n",
        "      with torch.no_grad():\n",
        "        self.running_mean = (1 - self.momentun) * self.running_mean + self.momentun * xmean\n",
        "        self.running_var =  (1 - self.momentun ) * self.running_var + self.momentun * xvar\n",
        "    return self.out\n",
        "\n",
        "  def parameters(self):\n",
        "    return [self.gamma, self.beta]\n",
        "\n",
        "# ===============================================================================\n",
        "\n",
        "class Tanh:\n",
        "  def __call__(self,x):\n",
        "    self.out = torch.tanh(x)\n",
        "    return self.out\n",
        "  def parameters(self):\n",
        "    return []\n",
        "\n",
        "#  ==============================================================================\n",
        "\n",
        "class Embedding:\n",
        "\n",
        "  def __init__(self, num_embbeding,embedding_dim):\n",
        "    self.weight = torch.randn(num_embbeding, embedding_dim)\n",
        "\n",
        "  def __call__(self,IX):\n",
        "    self.out = self.weight[IX]\n",
        "    return self.out\n",
        "\n",
        "  def parameters(self):\n",
        "    return [self.weight]\n",
        "\n",
        "# ===================================================================================\n",
        "\n",
        "class Flatten:\n",
        "\n",
        "  def __call__(self,x):\n",
        "    self.out = x.view(x.shape[0], -1)\n",
        "    return self.out\n",
        "\n",
        "  def parameters(self):\n",
        "    return []\n",
        "# ====================================================================================\n",
        "\n",
        "class Sequential:\n",
        "  def __init__(self, layers):\n",
        "    self.layers = layers\n",
        "\n",
        "  def __call__(self, x):\n",
        "    for layer in self.layers:\n",
        "      x = layer(x)\n",
        "    self.out = x\n",
        "    return self.out\n",
        "\n",
        "  def parameters(self):\n",
        "    return [p for  layer in self.layers for p in layer.parameters()]"
      ],
      "metadata": {
        "id": "OXITn8nbIGzi"
      },
      "execution_count": null,
      "outputs": []
    },
    {
      "cell_type": "code",
      "source": [
        "torch.manual_seed(42)"
      ],
      "metadata": {
        "colab": {
          "base_uri": "https://localhost:8080/"
        },
        "id": "YPR9OCcQTHBg",
        "outputId": "f2bd7557-68e5-458d-dc97-98b64640053d"
      },
      "execution_count": null,
      "outputs": [
        {
          "output_type": "execute_result",
          "data": {
            "text/plain": [
              "<torch._C.Generator at 0x79ebc0063e10>"
            ]
          },
          "metadata": {},
          "execution_count": 11
        }
      ]
    },
    {
      "cell_type": "code",
      "source": [
        "n_embd = 10 # the dimensionality of the character embedding vectors\n",
        "n_hidden = 200 # the number of neurons in the hidden layer of the MLP\n",
        "\n",
        "C = torch.randn((vocab_size,n_embd))\n",
        "layers = [\n",
        "    Linear(n_embd * block_size,n_hidden,bias = False),BactNorm1d(n_hidden),Tanh(),\n",
        "    Linear(n_hidden,vocab_size),\n",
        "]\n",
        "\n",
        "\n",
        "# parameter init\n",
        "\n",
        "with torch.no_grad():\n",
        "  layers[-1].weight *=0.1 # last layer make less confident\n",
        "\n",
        "parameters = [C] + [p for layer in layers for p in layer.parameters()]\n",
        "print(sum(p.nelement() for p in parameters)) # number of parametrs in total\n",
        "for p in parameters:\n",
        "  p.requires_grad = True"
      ],
      "metadata": {
        "colab": {
          "base_uri": "https://localhost:8080/"
        },
        "id": "uuNzxkBgTMHk",
        "outputId": "de051bde-41f3-4ccd-9384-d675ee5d0527"
      },
      "execution_count": null,
      "outputs": [
        {
          "output_type": "stream",
          "name": "stdout",
          "text": [
            "12097\n"
          ]
        }
      ]
    },
    {
      "cell_type": "code",
      "source": [
        "layers[0].weight.shape"
      ],
      "metadata": {
        "colab": {
          "base_uri": "https://localhost:8080/"
        },
        "id": "yeKv1lfn9XrD",
        "outputId": "638291f5-eb99-4aa5-c66c-ccfa2d5d044c"
      },
      "execution_count": null,
      "outputs": [
        {
          "output_type": "execute_result",
          "data": {
            "text/plain": [
              "torch.Size([30, 200])"
            ]
          },
          "metadata": {},
          "execution_count": 13
        }
      ]
    },
    {
      "cell_type": "code",
      "source": [
        "batch_size = 32\n",
        "max_steps = 100000\n",
        "lossi = []\n",
        "\n",
        "for  i in range(max_steps):\n",
        "\n",
        "  # minibatch construct\n",
        "  ix = torch.randint(0,Xtr.shape[0],(batch_size,))\n",
        "  Xb,Yb = Xtr[ix],Ytr[ix] # batch X,Y\n",
        "\n",
        "  # forward pass\n",
        "  emb = C[Xb] # embed the characters into vectors\n",
        "  x = emb.view(emb.shape[0], -1) # concatenate the vectors\n",
        "  for layer in layers:\n",
        "    x = layer(x)\n",
        "  loss = F.cross_entropy(x, Yb)  # loss function\n",
        "\n",
        "  # backward pass\n",
        "  for p in parameters:\n",
        "    p.grad = None\n",
        "  loss.backward()\n",
        "  # ------------------------------------------------------\n",
        "\n",
        "  # update\n",
        "  lr = 0.1 if i  < 10000 else 0.01\n",
        "  for p  in parameters:\n",
        "    p.data+=-lr*p.grad\n",
        "\n",
        "  # strack stats\n",
        "  if i % 1000 == 0:# print every once in while\n",
        "    print(f'{i:7d}/{max_steps:7d}:{loss.item():.4f}')\n",
        "  lossi.append(loss.log10().item())"
      ],
      "metadata": {
        "id": "_28lB-UlHXyG",
        "colab": {
          "base_uri": "https://localhost:8080/"
        },
        "outputId": "9d3c6608-eab8-4750-fc5c-0ab669d3101f"
      },
      "execution_count": null,
      "outputs": [
        {
          "output_type": "stream",
          "name": "stdout",
          "text": [
            "      0/ 100000:3.2942\n",
            "   1000/ 100000:2.4622\n",
            "   2000/ 100000:2.1842\n",
            "   3000/ 100000:2.0944\n",
            "   4000/ 100000:2.7029\n",
            "   5000/ 100000:2.2654\n",
            "   6000/ 100000:2.3630\n",
            "   7000/ 100000:2.1481\n",
            "   8000/ 100000:2.0242\n",
            "   9000/ 100000:2.7153\n",
            "  10000/ 100000:2.2967\n",
            "  11000/ 100000:2.2796\n",
            "  12000/ 100000:2.6312\n",
            "  13000/ 100000:2.1767\n",
            "  14000/ 100000:2.2464\n",
            "  15000/ 100000:2.2891\n",
            "  16000/ 100000:2.2033\n",
            "  17000/ 100000:2.2928\n",
            "  18000/ 100000:2.3083\n",
            "  19000/ 100000:2.4530\n",
            "  20000/ 100000:2.4117\n",
            "  21000/ 100000:2.1189\n",
            "  22000/ 100000:2.0110\n",
            "  23000/ 100000:2.1092\n",
            "  24000/ 100000:2.3762\n",
            "  25000/ 100000:1.8521\n",
            "  26000/ 100000:2.0461\n",
            "  27000/ 100000:2.2146\n",
            "  28000/ 100000:2.3322\n",
            "  29000/ 100000:2.1003\n",
            "  30000/ 100000:2.0994\n",
            "  31000/ 100000:1.8094\n",
            "  32000/ 100000:2.1395\n",
            "  33000/ 100000:2.3228\n",
            "  34000/ 100000:1.7025\n",
            "  35000/ 100000:2.4312\n",
            "  36000/ 100000:2.2826\n",
            "  37000/ 100000:2.0036\n",
            "  38000/ 100000:2.1246\n",
            "  39000/ 100000:1.9792\n",
            "  40000/ 100000:2.2902\n",
            "  41000/ 100000:2.0530\n",
            "  42000/ 100000:1.9076\n",
            "  43000/ 100000:2.3041\n",
            "  44000/ 100000:2.3079\n",
            "  45000/ 100000:2.3111\n",
            "  46000/ 100000:1.8744\n",
            "  47000/ 100000:2.1910\n",
            "  48000/ 100000:2.8732\n",
            "  49000/ 100000:2.3337\n",
            "  50000/ 100000:2.3439\n",
            "  51000/ 100000:2.4081\n",
            "  52000/ 100000:2.0953\n",
            "  53000/ 100000:2.0361\n",
            "  54000/ 100000:1.9376\n",
            "  55000/ 100000:2.2541\n",
            "  56000/ 100000:2.5101\n",
            "  57000/ 100000:1.8929\n",
            "  58000/ 100000:2.5358\n",
            "  59000/ 100000:2.2304\n",
            "  60000/ 100000:1.8293\n",
            "  61000/ 100000:1.9578\n",
            "  62000/ 100000:2.4897\n",
            "  63000/ 100000:2.4741\n",
            "  64000/ 100000:2.5897\n",
            "  65000/ 100000:2.3645\n",
            "  66000/ 100000:2.4763\n",
            "  67000/ 100000:2.2822\n",
            "  68000/ 100000:2.0544\n",
            "  69000/ 100000:2.2250\n",
            "  70000/ 100000:1.9642\n",
            "  71000/ 100000:2.4510\n",
            "  72000/ 100000:2.0339\n",
            "  73000/ 100000:2.1458\n",
            "  74000/ 100000:2.2889\n",
            "  75000/ 100000:2.1464\n",
            "  76000/ 100000:2.4503\n",
            "  77000/ 100000:2.1457\n",
            "  78000/ 100000:2.2463\n",
            "  79000/ 100000:2.2995\n",
            "  80000/ 100000:2.6833\n",
            "  81000/ 100000:2.2094\n",
            "  82000/ 100000:2.3237\n",
            "  83000/ 100000:1.9939\n",
            "  84000/ 100000:2.0510\n",
            "  85000/ 100000:2.6015\n",
            "  86000/ 100000:2.3500\n",
            "  87000/ 100000:2.2082\n",
            "  88000/ 100000:2.1966\n",
            "  89000/ 100000:2.3474\n",
            "  90000/ 100000:2.1274\n",
            "  91000/ 100000:2.8257\n",
            "  92000/ 100000:1.9854\n",
            "  93000/ 100000:1.9790\n",
            "  94000/ 100000:2.2845\n",
            "  95000/ 100000:2.2325\n",
            "  96000/ 100000:2.1279\n",
            "  97000/ 100000:2.2266\n",
            "  98000/ 100000:2.2784\n",
            "  99000/ 100000:2.3664\n"
          ]
        }
      ]
    },
    {
      "cell_type": "code",
      "source": [
        "plt.plot(torch.tensor(lossi).view(-1,1000).mean(1))"
      ],
      "metadata": {
        "id": "RymQJYasHngp",
        "colab": {
          "base_uri": "https://localhost:8080/",
          "height": 447
        },
        "outputId": "ee9339e0-32a5-4fa8-fc8f-b5a3a271651d"
      },
      "execution_count": null,
      "outputs": [
        {
          "output_type": "execute_result",
          "data": {
            "text/plain": [
              "[<matplotlib.lines.Line2D at 0x79eb059ec370>]"
            ]
          },
          "metadata": {},
          "execution_count": 15
        },
        {
          "output_type": "display_data",
          "data": {
            "text/plain": [
              "<Figure size 640x480 with 1 Axes>"
            ],
            "image/png": "[encoded data removed]"
          },
          "metadata": {}
        }
      ]
    },
    {
      "cell_type": "code",
      "source": [
        "# evaluate loss\n",
        "\n",
        "@torch.no_grad()\n",
        "def split_loss(split):\n",
        "  x,y = {\n",
        "      \"train\" : (Xtr,Ytr),\n",
        "       \"val\" : (Xdev,Ydev),\n",
        "       \"test\" : (Xte,yte),\n",
        "  }[split]\n",
        "\n",
        "  emb = C[x]\n",
        "  embcat = emb.view(emb.shape[0], -1)\n",
        "  for layer in layers:\n",
        "    embcat = layer(embcat)\n",
        "  loss = F.cross_entropy(embcat,y)\n",
        "  print(split,loss.item())\n",
        "\n",
        "split_loss(\"train\")\n",
        "split_loss(\"val\")\n",
        "split_loss(\"test\")"
      ],
      "metadata": {
        "colab": {
          "base_uri": "https://localhost:8080/"
        },
        "id": "p8dyE4mNhVhN",
        "outputId": "7b830ffc-036f-42c4-cbc5-098fa16c8ea4"
      },
      "execution_count": null,
      "outputs": [
        {
          "output_type": "stream",
          "name": "stdout",
          "text": [
            "train 2.138444185256958\n",
            "val 2.1652019023895264\n",
            "test 2.1627817153930664\n"
          ]
        }
      ]
    },
    {
      "cell_type": "code",
      "source": [
        "random.seed(74802398923)"
      ],
      "metadata": {
        "id": "BelhfkMt1SoL"
      },
      "execution_count": null,
      "outputs": []
    },
    {
      "cell_type": "code",
      "source": [
        "# sampling from  the model\n",
        "\n",
        "for _ in range(20):\n",
        "\n",
        "  out = []\n",
        "  context = [0] * block_size\n",
        "  while True:\n",
        "    # forward pass the neural net\n",
        "    emb = C[torch.tensor([context])]\n",
        "    x = emb.view(emb.shape[0], -1 )\n",
        "    for layer in layers:\n",
        "      x = layer(x)\n",
        "    logits =  x\n",
        "    probs = F.softmax(logits, dim = 1)\n",
        "    # sample from distribuition\n",
        "    ix = torch.multinomial(probs,num_samples = 1).item()\n",
        "    # shift the context window and  track the samples\n",
        "    context = context[1:] + [ix]\n",
        "    out.append(ix)\n",
        "    # if we sample the special '.' token , break\n",
        "    if ix == 0:\n",
        "      break\n",
        "\n",
        "  print(''.join(itos[i] for i in out)) # decode an print the generated word"
      ],
      "metadata": {
        "colab": {
          "base_uri": "https://localhost:8080/"
        },
        "id": "FCvV7yVJsfm8",
        "outputId": "67cb696c-83a8-4163-eb7a-417c6f6f36ae"
      },
      "execution_count": null,
      "outputs": [
        {
          "output_type": "stream",
          "name": "stdout",
          "text": [
            ".\n",
            "nie.\n",
            "axsu.\n",
            "ia.\n",
            "reeoet.\n",
            "namiwiieyieaaeaza.\n",
            "ahyaeeiy.\n",
            "nm.\n",
            "eyesauy.\n",
            "mutea.\n",
            ".\n",
            "atooev.\n",
            "eyiayyieisnaalnreiaarliiie.\n",
            "iloeaimizeo.\n",
            "nl.\n",
            "aajleiimaei.\n",
            ".\n",
            "eazaeey.\n",
            "ikaihrynial.\n",
            "aae.\n"
          ]
        }
      ]
    },
    {
      "cell_type": "markdown",
      "source": [
        "#**1-Pytorchifying our code: layers, containers, torch.nn, fun bugs**"
      ],
      "metadata": {
        "id": "RrQ8Q0E3-H8z"
      }
    },
    {
      "cell_type": "code",
      "source": [
        "n_embd = 10 # the dimensionality of the character embedding vectors\n",
        "n_hidden = 200 # the number of neurons in the hidden layer of the MLP\n",
        "\n",
        "\n",
        "model = Sequential([\n",
        "    Embedding(vocab_size,n_embd),\n",
        "    Flatten(),\n",
        "    Linear(n_embd * block_size,n_hidden,bias = False),BactNorm1d(n_hidden),Tanh(),\n",
        "    Linear(n_hidden,vocab_size),\n",
        "])\n",
        "\n",
        "\n",
        "# parameter init\n",
        "\n",
        "with torch.no_grad():\n",
        "  layers[-1].weight *=0.1 # last layer make less confident\n",
        "\n",
        "parameters = model.parameters()\n",
        "for p in parameters:\n",
        "  p.requires_grad = True"
      ],
      "metadata": {
        "id": "NpN4grT4952r"
      },
      "execution_count": null,
      "outputs": []
    },
    {
      "cell_type": "code",
      "source": [
        "batch_size = 32\n",
        "max_steps = 100000\n",
        "lossi = []\n",
        "\n",
        "for  i in range(max_steps):\n",
        "\n",
        "  # minibatch construct\n",
        "  ix = torch.randint(0,Xtr.shape[0],(batch_size,))\n",
        "  Xb,Yb = Xtr[ix], Ytr[ix] # batch X,Y\n",
        "\n",
        "  # forward pass\n",
        "  logits = model(Xb)\n",
        "  loss = F.cross_entropy(logits, Yb)  # loss function\n",
        "\n",
        "  # backward pass\n",
        "  for p in parameters:\n",
        "    p.grad = None\n",
        "  loss.backward()\n",
        "  # ------------------------------------------------------\n",
        "\n",
        "  # update : simple SGD\n",
        "  lr = 0.1 if i  < 10000 else 0.01 # step learning rate decay\n",
        "  for p  in parameters:\n",
        "    p.data +=-lr*p.grad\n",
        "\n",
        "  # strack stats\n",
        "  if i % 1000 == 0:# print every once in while\n",
        "    print(f'{i:7d}/{max_steps:7d}:{loss.item():.4f}')\n",
        "  lossi.append(loss.log10().item())\n"
      ],
      "metadata": {
        "colab": {
          "base_uri": "https://localhost:8080/"
        },
        "id": "MTLwadSE955v",
        "outputId": "6a27b7ae-504d-4b8f-b4f0-7660321055bc"
      },
      "execution_count": null,
      "outputs": [
        {
          "output_type": "stream",
          "name": "stdout",
          "text": [
            "      0/ 100000:3.6171\n",
            "   1000/ 100000:2.6368\n",
            "   2000/ 100000:2.6105\n",
            "   3000/ 100000:2.2022\n",
            "   4000/ 100000:2.3626\n",
            "   5000/ 100000:2.3368\n",
            "   6000/ 100000:2.7961\n",
            "   7000/ 100000:2.5002\n",
            "   8000/ 100000:2.0566\n",
            "   9000/ 100000:2.6126\n",
            "  10000/ 100000:2.3351\n",
            "  11000/ 100000:2.1542\n",
            "  12000/ 100000:2.1243\n",
            "  13000/ 100000:1.9587\n",
            "  14000/ 100000:2.4531\n",
            "  15000/ 100000:2.3611\n",
            "  16000/ 100000:2.1068\n",
            "  17000/ 100000:2.4524\n",
            "  18000/ 100000:1.7260\n",
            "  19000/ 100000:2.3880\n",
            "  20000/ 100000:2.3349\n",
            "  21000/ 100000:2.6142\n",
            "  22000/ 100000:2.1667\n",
            "  23000/ 100000:2.1569\n",
            "  24000/ 100000:2.2626\n",
            "  25000/ 100000:2.0646\n",
            "  26000/ 100000:2.1896\n",
            "  27000/ 100000:2.2645\n",
            "  28000/ 100000:2.4424\n",
            "  29000/ 100000:2.5290\n",
            "  30000/ 100000:2.2225\n",
            "  31000/ 100000:2.1941\n",
            "  32000/ 100000:2.4178\n",
            "  33000/ 100000:1.9398\n",
            "  34000/ 100000:2.1791\n",
            "  35000/ 100000:2.0962\n",
            "  36000/ 100000:2.2838\n",
            "  37000/ 100000:2.4047\n",
            "  38000/ 100000:2.2463\n",
            "  39000/ 100000:2.1700\n",
            "  40000/ 100000:1.8619\n",
            "  41000/ 100000:1.8770\n",
            "  42000/ 100000:2.4787\n",
            "  43000/ 100000:2.2107\n",
            "  44000/ 100000:2.2453\n",
            "  45000/ 100000:1.9341\n",
            "  46000/ 100000:1.9536\n",
            "  47000/ 100000:2.0291\n",
            "  48000/ 100000:2.0857\n",
            "  49000/ 100000:2.4646\n",
            "  50000/ 100000:1.8259\n",
            "  51000/ 100000:2.2375\n",
            "  52000/ 100000:2.5408\n",
            "  53000/ 100000:2.1490\n",
            "  54000/ 100000:1.9036\n",
            "  55000/ 100000:2.0861\n",
            "  56000/ 100000:2.3734\n",
            "  57000/ 100000:2.1523\n",
            "  58000/ 100000:2.0493\n",
            "  59000/ 100000:2.3221\n",
            "  60000/ 100000:2.5039\n",
            "  61000/ 100000:2.1800\n",
            "  62000/ 100000:2.2037\n",
            "  63000/ 100000:1.9415\n",
            "  64000/ 100000:2.1188\n",
            "  65000/ 100000:2.1760\n",
            "  66000/ 100000:2.0300\n",
            "  67000/ 100000:2.0817\n",
            "  68000/ 100000:2.2129\n",
            "  69000/ 100000:2.3361\n",
            "  70000/ 100000:2.1379\n",
            "  71000/ 100000:2.2448\n",
            "  72000/ 100000:2.1757\n",
            "  73000/ 100000:2.0394\n",
            "  74000/ 100000:2.1390\n",
            "  75000/ 100000:2.0365\n",
            "  76000/ 100000:2.1372\n",
            "  77000/ 100000:2.0665\n",
            "  78000/ 100000:2.0249\n",
            "  79000/ 100000:2.2399\n",
            "  80000/ 100000:2.1748\n",
            "  81000/ 100000:2.3485\n",
            "  82000/ 100000:2.7860\n",
            "  83000/ 100000:2.2524\n",
            "  84000/ 100000:2.0149\n",
            "  85000/ 100000:2.0091\n",
            "  86000/ 100000:2.3845\n",
            "  87000/ 100000:2.1397\n",
            "  88000/ 100000:2.1876\n",
            "  89000/ 100000:2.1259\n",
            "  90000/ 100000:2.4517\n",
            "  91000/ 100000:2.2540\n",
            "  92000/ 100000:2.6083\n",
            "  93000/ 100000:1.8682\n",
            "  94000/ 100000:2.1997\n",
            "  95000/ 100000:2.3895\n",
            "  96000/ 100000:2.3264\n",
            "  97000/ 100000:1.6699\n",
            "  98000/ 100000:2.0156\n",
            "  99000/ 100000:2.4119\n"
          ]
        }
      ]
    },
    {
      "cell_type": "code",
      "source": [
        "for layer in model.layers:\n",
        "  layer.training = False"
      ],
      "metadata": {
        "id": "SswhsavfHlZf"
      },
      "execution_count": null,
      "outputs": []
    },
    {
      "cell_type": "code",
      "source": [
        "# evaluate loss\n",
        "\n",
        "@torch.no_grad()\n",
        "def split_loss(split):\n",
        "  x,y = {\n",
        "      \"train\" : (Xtr,Ytr),\n",
        "       \"val\" : (Xdev,Ydev),\n",
        "       \"test\" : (Xte,yte),\n",
        "  }[split]\n",
        "\n",
        "  logits = model(x)\n",
        "  loss = F.cross_entropy(logits,y)\n",
        "  print(split,loss.item())\n",
        "\n",
        "split_loss(\"train\")\n",
        "split_loss(\"val\")\n",
        "split_loss(\"test\")"
      ],
      "metadata": {
        "colab": {
          "base_uri": "https://localhost:8080/"
        },
        "id": "3zfkL3nHHwWM",
        "outputId": "cced1943-5008-4199-b119-e9c5c0c6dbdc"
      },
      "execution_count": null,
      "outputs": [
        {
          "output_type": "stream",
          "name": "stdout",
          "text": [
            "train 2.1374034881591797\n",
            "val 2.166473150253296\n",
            "test 2.1620118618011475\n"
          ]
        }
      ]
    },
    {
      "cell_type": "code",
      "source": [
        "\n",
        "# sampling from  the model\n",
        "\n",
        "for _ in range(20):\n",
        "\n",
        "  out = []\n",
        "  context = [0] * block_size\n",
        "  while True:\n",
        "    # forward pass the neural net\n",
        "    logits = model(torch.tensor([context]))\n",
        "    probs = F.softmax(logits, dim = 1)\n",
        "    # sample from distribuition\n",
        "    ix = torch.multinomial(probs,num_samples = 1).item()\n",
        "    # shift the context window and  track the samples\n",
        "    context = context[1:] + [ix]\n",
        "    out.append(ix)\n",
        "    # if we sample the special '.' token , break\n",
        "    if ix == 0:\n",
        "      break\n",
        "\n",
        "  print(''.join(itos[i] for i in out)) # decode an print the generated word"
      ],
      "metadata": {
        "colab": {
          "base_uri": "https://localhost:8080/"
        },
        "id": "Gi2Ys7SEIH-e",
        "outputId": "acaf8611-a756-47d2-9d18-8888e0b9844e"
      },
      "execution_count": null,
      "outputs": [
        {
          "output_type": "stream",
          "name": "stdout",
          "text": [
            "ruhi.\n",
            "raste.\n",
            "ruley.\n",
            "zuia.\n",
            "hiah.\n",
            "jazlyn.\n",
            "daivi.\n",
            "shono.\n",
            "saisie.\n",
            "evania.\n",
            "iat.\n",
            "rumilian.\n",
            "riah.\n",
            "ecr.\n",
            "zardyana.\n",
            "ron.\n",
            "ster.\n",
            "wynn.\n",
            "riofa.\n",
            "iste.\n"
          ]
        }
      ]
    },
    {
      "cell_type": "markdown",
      "source": [
        "#**2-WaveNet**"
      ],
      "metadata": {
        "id": "47RWEXSWWLpW"
      }
    },
    {
      "cell_type": "markdown",
      "source": [
        "- **Dataset bump the context size to 8**"
      ],
      "metadata": {
        "id": "YekYqprj1MSe"
      }
    },
    {
      "cell_type": "code",
      "source": [
        "def build_dataset(words):\n",
        "\n",
        "  X,Y = [],[]\n",
        "\n",
        "  block_size = 8\n",
        "  context=[0]*block_size\n",
        "  for w in words:\n",
        "    for ch in w + '.':\n",
        "      ix = stoi[ch]\n",
        "      X.append(context)\n",
        "      Y.append(ix)\n",
        "      context=context[1:] + [ix]\n",
        "\n",
        "  X = torch.tensor(X)\n",
        "  Y = torch.tensor(Y)\n",
        "  print(X.shape,Y.shape)\n",
        "\n",
        "  return X,Y"
      ],
      "metadata": {
        "id": "9OqJQkR91P0P"
      },
      "execution_count": null,
      "outputs": []
    },
    {
      "cell_type": "code",
      "source": [
        "random.seed(42)\n",
        "random.shuffle(words)\n",
        "n1 = int(0.8*len(words))\n",
        "n2 = int(0.9*len(words))\n",
        "\n",
        "Xtr,Ytr = build_dataset(words[:n1]) #  80%\n",
        "Xdev,Ydev = build_dataset(words[n1:n2]) #  10%\n",
        "Xte,yte = build_dataset(words[n2:]) # 10%"
      ],
      "metadata": {
        "colab": {
          "base_uri": "https://localhost:8080/"
        },
        "id": "BPXpbGmK3QZu",
        "outputId": "578a30bf-d1ca-4307-de43-519359e6a135"
      },
      "execution_count": null,
      "outputs": [
        {
          "output_type": "stream",
          "name": "stdout",
          "text": [
            "torch.Size([182580, 8]) torch.Size([182580])\n",
            "torch.Size([22767, 8]) torch.Size([22767])\n",
            "torch.Size([22799, 8]) torch.Size([22799])\n"
          ]
        }
      ]
    },
    {
      "cell_type": "code",
      "source": [
        "n_embd = 10 # the dimensionality of the character embedding vectors\n",
        "n_hidden = 200 # the number of neurons in the hidden layer of the MLP\n",
        "block_size = 8\n",
        "\n",
        "\n",
        "model = Sequential([\n",
        "    Embedding(vocab_size,n_embd),\n",
        "    Flatten(),\n",
        "    Linear(n_embd * block_size,n_hidden,bias = False),BactNorm1d(n_hidden),Tanh(),\n",
        "    Linear(n_hidden,vocab_size),\n",
        "])\n",
        "\n",
        "\n",
        "# parameter init\n",
        "\n",
        "with torch.no_grad():\n",
        "  layers[-1].weight *=0.1 # last layer make less confident\n",
        "\n",
        "print(sum(p.nelement() for p in model.parameters()))\n",
        "parameters = model.parameters()\n",
        "for p in parameters:\n",
        "  p.requires_grad = True"
      ],
      "metadata": {
        "colab": {
          "base_uri": "https://localhost:8080/"
        },
        "id": "zmNduD1m3C6S",
        "outputId": "58d63bd7-d3f0-4b0d-cd0a-fc2aebc8e5f6"
      },
      "execution_count": null,
      "outputs": [
        {
          "output_type": "stream",
          "name": "stdout",
          "text": [
            "22097\n"
          ]
        }
      ]
    },
    {
      "cell_type": "markdown",
      "source": [
        "#**3-re-running baseline code on block_size 8**"
      ],
      "metadata": {
        "id": "DwfiQYC24Cwv"
      }
    },
    {
      "cell_type": "code",
      "source": [
        "batch_size = 32\n",
        "max_steps = 100000\n",
        "lossi = []\n",
        "\n",
        "for  i in range(max_steps):\n",
        "\n",
        "  # minibatch construct\n",
        "  ix = torch.randint(0,Xtr.shape[0],(batch_size,))\n",
        "  Xb,Yb = Xtr[ix], Ytr[ix] # batch X,Y\n",
        "\n",
        "  # forward pass\n",
        "  logits = model(Xb)\n",
        "  loss = F.cross_entropy(logits, Yb)  # loss function\n",
        "\n",
        "  # backward pass\n",
        "  for p in parameters:\n",
        "    p.grad = None\n",
        "  loss.backward()\n",
        "  # ------------------------------------------------------\n",
        "\n",
        "  # update : simple SGD\n",
        "  lr = 0.1 if i  < 10000 else 0.01 # step learning rate decay\n",
        "  for p  in parameters:\n",
        "    p.data +=-lr*p.grad\n",
        "\n",
        "  # strack stats\n",
        "  if i % 1000 == 0:# print every once in while\n",
        "    print(f'{i:7d}/{max_steps:7d}:{loss.item():.4f}')\n",
        "  lossi.append(loss.log10().item())\n"
      ],
      "metadata": {
        "colab": {
          "base_uri": "https://localhost:8080/"
        },
        "id": "sgkenHf74fiQ",
        "outputId": "fa0d732f-cda7-4275-da9d-20e426dff12c"
      },
      "execution_count": null,
      "outputs": [
        {
          "output_type": "stream",
          "name": "stdout",
          "text": [
            "      0/ 100000:3.3113\n",
            "   1000/ 100000:2.2246\n",
            "   2000/ 100000:2.3994\n",
            "   3000/ 100000:2.2765\n",
            "   4000/ 100000:2.2016\n",
            "   5000/ 100000:2.1266\n",
            "   6000/ 100000:2.4595\n",
            "   7000/ 100000:2.0983\n",
            "   8000/ 100000:2.0935\n",
            "   9000/ 100000:2.3368\n",
            "  10000/ 100000:2.7713\n",
            "  11000/ 100000:2.3873\n",
            "  12000/ 100000:1.9231\n",
            "  13000/ 100000:2.2478\n",
            "  14000/ 100000:2.1796\n",
            "  15000/ 100000:2.1846\n",
            "  16000/ 100000:1.9582\n",
            "  17000/ 100000:2.6345\n",
            "  18000/ 100000:2.2512\n",
            "  19000/ 100000:2.4475\n",
            "  20000/ 100000:1.8236\n",
            "  21000/ 100000:2.0362\n",
            "  22000/ 100000:2.0693\n",
            "  23000/ 100000:2.7328\n",
            "  24000/ 100000:2.1109\n",
            "  25000/ 100000:2.5008\n",
            "  26000/ 100000:2.2587\n",
            "  27000/ 100000:2.0016\n",
            "  28000/ 100000:2.7417\n",
            "  29000/ 100000:2.7404\n",
            "  30000/ 100000:2.2335\n",
            "  31000/ 100000:2.2457\n",
            "  32000/ 100000:1.9875\n",
            "  33000/ 100000:1.8498\n",
            "  34000/ 100000:2.3231\n",
            "  35000/ 100000:1.9072\n",
            "  36000/ 100000:2.0036\n",
            "  37000/ 100000:2.3085\n",
            "  38000/ 100000:2.3493\n",
            "  39000/ 100000:2.6058\n",
            "  40000/ 100000:1.7889\n",
            "  41000/ 100000:2.2009\n",
            "  42000/ 100000:2.4788\n",
            "  43000/ 100000:2.4583\n",
            "  44000/ 100000:2.4594\n",
            "  45000/ 100000:2.2568\n",
            "  46000/ 100000:1.9828\n",
            "  47000/ 100000:2.1760\n",
            "  48000/ 100000:2.0305\n",
            "  49000/ 100000:2.0995\n",
            "  50000/ 100000:1.7052\n",
            "  51000/ 100000:2.2424\n",
            "  52000/ 100000:2.1789\n",
            "  53000/ 100000:2.3763\n",
            "  54000/ 100000:2.4505\n",
            "  55000/ 100000:2.0456\n",
            "  56000/ 100000:1.9697\n",
            "  57000/ 100000:1.8082\n",
            "  58000/ 100000:2.3558\n",
            "  59000/ 100000:2.2043\n",
            "  60000/ 100000:2.0322\n",
            "  61000/ 100000:1.9891\n",
            "  62000/ 100000:2.1585\n",
            "  63000/ 100000:2.2676\n",
            "  64000/ 100000:2.1990\n",
            "  65000/ 100000:2.1200\n",
            "  66000/ 100000:2.2448\n",
            "  67000/ 100000:1.8799\n",
            "  68000/ 100000:1.9426\n",
            "  69000/ 100000:2.7323\n",
            "  70000/ 100000:2.1265\n",
            "  71000/ 100000:2.2413\n",
            "  72000/ 100000:1.7889\n",
            "  73000/ 100000:2.0934\n",
            "  74000/ 100000:1.8806\n",
            "  75000/ 100000:1.7994\n",
            "  76000/ 100000:2.4494\n",
            "  77000/ 100000:2.2079\n",
            "  78000/ 100000:2.1403\n",
            "  79000/ 100000:2.1195\n",
            "  80000/ 100000:2.0781\n",
            "  81000/ 100000:2.2337\n",
            "  82000/ 100000:2.3364\n",
            "  83000/ 100000:2.2291\n",
            "  84000/ 100000:1.9725\n",
            "  85000/ 100000:2.2903\n",
            "  86000/ 100000:2.3231\n",
            "  87000/ 100000:1.9695\n",
            "  88000/ 100000:1.9109\n",
            "  89000/ 100000:2.1166\n",
            "  90000/ 100000:2.0151\n",
            "  91000/ 100000:2.1399\n",
            "  92000/ 100000:1.8195\n",
            "  93000/ 100000:2.0198\n",
            "  94000/ 100000:2.2012\n",
            "  95000/ 100000:2.1736\n",
            "  96000/ 100000:2.1350\n",
            "  97000/ 100000:1.7956\n",
            "  98000/ 100000:1.7956\n",
            "  99000/ 100000:2.0908\n"
          ]
        }
      ]
    },
    {
      "cell_type": "code",
      "source": [
        "plt.plot(lossi)"
      ],
      "metadata": {
        "colab": {
          "base_uri": "https://localhost:8080/",
          "height": 447
        },
        "id": "BJuoyViH4uN_",
        "outputId": "05c7894a-331b-4e07-e5e4-f6b13ba45c95"
      },
      "execution_count": null,
      "outputs": [
        {
          "output_type": "execute_result",
          "data": {
            "text/plain": [
              "[<matplotlib.lines.Line2D at 0x79eb0554fc40>]"
            ]
          },
          "metadata": {},
          "execution_count": 28
        },
        {
          "output_type": "display_data",
          "data": {
            "text/plain": [
              "<Figure size 640x480 with 1 Axes>"
            ],
            "image/png": "[encoded data removed]"
          },
          "metadata": {}
        }
      ]
    },
    {
      "cell_type": "code",
      "source": [
        "# evaluate loss\n",
        "\n",
        "@torch.no_grad()\n",
        "def split_loss(split):\n",
        "  x,y = {\n",
        "      \"train\" : (Xtr,Ytr),\n",
        "       \"val\" : (Xdev,Ydev),\n",
        "       \"test\" : (Xte,yte),\n",
        "  }[split]\n",
        "\n",
        "  logits = model(x)\n",
        "  loss = F.cross_entropy(logits,y)\n",
        "  print(split,loss.item())\n",
        "\n",
        "split_loss(\"train\")\n",
        "split_loss(\"val\")\n",
        "split_loss(\"test\")"
      ],
      "metadata": {
        "colab": {
          "base_uri": "https://localhost:8080/"
        },
        "id": "IqC9VX914yas",
        "outputId": "13e76900-ee52-4e7a-eed5-80bef2a4bbe1"
      },
      "execution_count": null,
      "outputs": [
        {
          "output_type": "stream",
          "name": "stdout",
          "text": [
            "train 2.0951173305511475\n",
            "val 2.148928165435791\n",
            "test 2.154147148132324\n"
          ]
        }
      ]
    },
    {
      "cell_type": "code",
      "source": [
        "for layer in model.layers:\n",
        "  layer.training = True"
      ],
      "metadata": {
        "id": "mn1zpd8LRgci"
      },
      "execution_count": null,
      "outputs": []
    },
    {
      "cell_type": "code",
      "source": [
        "# sampling from  the model\n",
        "\n",
        "for _ in range(20):\n",
        "\n",
        "  out = []\n",
        "  context = [0] * block_size\n",
        "  while True:\n",
        "    # forward pass the neural net\n",
        "    logits = model(torch.tensor([context]))\n",
        "    probs = F.softmax(logits, dim = 1)\n",
        "    # sample from distribuition\n",
        "    ix = torch.multinomial(probs,num_samples = 1).item()\n",
        "    # shift the context window and  track the samples\n",
        "    context = context[1:] + [ix]\n",
        "    out.append(ix)\n",
        "    # if we sample the special '.' token , break\n",
        "    if ix == 0:\n",
        "      break\n",
        "\n",
        "  print(''.join(itos[i] for i in out)) # decode an print the generated word"
      ],
      "metadata": {
        "colab": {
          "base_uri": "https://localhost:8080/"
        },
        "id": "XamyIkzZ461v",
        "outputId": "b9790981-10a1-4075-ddd5-28e5ef79e1cc"
      },
      "execution_count": null,
      "outputs": [
        {
          "output_type": "stream",
          "name": "stdout",
          "text": [
            "aenaoidinalar.\n",
            "iialaiaaoaainayaiaeate.\n",
            "aerayka.\n",
            "eroeaayalyhaeadiaeeiiaiaeayaaearay.\n",
            "a.\n",
            "ayaaera.\n",
            "naalao.\n",
            "neiieasheasaeeakeliaaabaayleo.\n",
            "aa.\n",
            "eaaiaebiai.\n",
            "eeaiaa.\n",
            "eeay.\n",
            "neynaueoaiaraniyaaatnnzahyaaaiarihaldeaaaiaiyaieseoinaroaaiaoaaeaaea.\n",
            "rraeeda.\n",
            "eaiataehatexiaaeeaaeaiieiaieaa.\n",
            "aaeleenaaaomeveyi.\n",
            "aleaeviide.\n",
            ".\n",
            "aiaau.\n",
            "ataeaieleiayyaaaai.\n"
          ]
        }
      ]
    },
    {
      "cell_type": "code",
      "source": [
        "torch.manual_seed(42)"
      ],
      "metadata": {
        "id": "vDi_1Ztj5ZqL",
        "colab": {
          "base_uri": "https://localhost:8080/"
        },
        "outputId": "7b002ec7-2c0a-4021-985a-78e5cd69dd41"
      },
      "execution_count": null,
      "outputs": [
        {
          "output_type": "execute_result",
          "data": {
            "text/plain": [
              "<torch._C.Generator at 0x79ebc0063e10>"
            ]
          },
          "metadata": {},
          "execution_count": 32
        }
      ]
    },
    {
      "cell_type": "markdown",
      "source": [
        "# **4-Implementing WaveNet**"
      ],
      "metadata": {
        "id": "h9yKgwWy9zKX"
      }
    },
    {
      "cell_type": "markdown",
      "source": [
        "## **Fixing batchnorm1d bug**"
      ],
      "metadata": {
        "id": "yBMv-l7lDz6J"
      }
    },
    {
      "cell_type": "code",
      "source": [
        "class Linear:\n",
        "\n",
        "  def __init__(self,fan_in, fan_out,bias=True):\n",
        "    self.weight = torch.randn((fan_in,fan_out))/fan_in**0.5\n",
        "    self.bias = torch.zeros(fan_out) if bias else None\n",
        "\n",
        "  def __call__(self,x):\n",
        "    self.out = x @ self.weight\n",
        "    if self.bias is not None:\n",
        "      self.out += self.bias\n",
        "    return self.out\n",
        "\n",
        "  def parameters(self):\n",
        "    return [self.weight] + ([] if self.bias is None else [self.bias])\n",
        "\n",
        "# -----------------------------------------------------\n",
        "\n",
        "class BactNorm1d:\n",
        "\n",
        "  def __init__(self,dim,eps = 1e-5 , momentun = 0.1):\n",
        "    self.eps = eps\n",
        "    self.dim = dim\n",
        "    self.training = True\n",
        "    self.momentun = momentun\n",
        "    self.gamma = torch.ones(dim)\n",
        "    self.beta = torch.zeros(dim)\n",
        "    self.running_mean = torch.zeros(dim)\n",
        "    self.running_var = torch.zeros(dim)\n",
        "\n",
        "# ====================================\n",
        "  def __call__(self,x):\n",
        "    # calculate the forward pass\n",
        "    if self.training:\n",
        "      if x.ndim == 2:\n",
        "        dim = 0\n",
        "      elif  x.ndim == 3:\n",
        "        dim = (0,1)\n",
        "      xmean = x.mean(dim , keepdims = True) # batch mean\n",
        "      xvar  = x.var(dim ,  keepdims = True,unbiased = False) # batch variance\n",
        "    else:\n",
        "      xmean = self.running_mean\n",
        "      xvar = self.running_var\n",
        "    xhat = (x - xmean) / torch.sqrt(xvar + self.eps)\n",
        "    self.out = self.gamma * xhat + self.beta\n",
        "    # update the buffers\n",
        "    if self.training:\n",
        "      with torch.no_grad():\n",
        "        self.running_mean = (1 - self.momentun) * self.running_mean + self.momentun * xmean\n",
        "        self.running_var =  (1 - self.momentun ) * self.running_var + self.momentun * xvar\n",
        "    return self.out\n",
        "\n",
        "  def parameters(self):\n",
        "    return [self.gamma, self.beta]\n",
        "\n",
        "# ===============================================================================\n",
        "\n",
        "class Tanh:\n",
        "  def __call__(self,x):\n",
        "    self.out = torch.tanh(x)\n",
        "    return self.out\n",
        "  def parameters(self):\n",
        "    return []\n",
        "\n",
        "#  ==============================================================================\n",
        "\n",
        "class Embedding:\n",
        "\n",
        "  def __init__(self, num_embbeding,embedding_dim):\n",
        "    self.weight = torch.randn((num_embbeding, embedding_dim))\n",
        "\n",
        "  def __call__(self,IX):\n",
        "    self.out = self.weight[IX]\n",
        "    return self.out\n",
        "\n",
        "  def parameters(self):\n",
        "    return [self.weight]\n",
        "\n",
        "# ===================================================================================\n",
        "\n",
        "class FlattenConsecutive:\n",
        "  def __init__(self,n):\n",
        "    self.n = n\n",
        "\n",
        "  def __call__(self,x):\n",
        "    B, T, C = x.shape\n",
        "    x = x.view(B, T//self.n, C*self.n)\n",
        "    if x.shape[1] == 1:\n",
        "      x = x.squeeze(1)\n",
        "    self.out = x\n",
        "    return self.out\n",
        "\n",
        "  def parameters(self):\n",
        "    return []\n",
        "# ====================================================================================\n",
        "\n",
        "class Sequential:\n",
        "  def __init__(self, layers):\n",
        "    self.layers = layers\n",
        "\n",
        "  def __call__(self, x):\n",
        "    for layer in self.layers:\n",
        "      x = layer(x)\n",
        "    self.out = x\n",
        "    return self.out\n",
        "\n",
        "  def parameters(self):\n",
        "    return [p for  layer in self.layers for p in layer.parameters()]"
      ],
      "metadata": {
        "id": "6Lw92gNcaI53"
      },
      "execution_count": null,
      "outputs": []
    },
    {
      "cell_type": "code",
      "source": [
        "torch.manual_seed(42)"
      ],
      "metadata": {
        "colab": {
          "base_uri": "https://localhost:8080/"
        },
        "id": "rZva9lXGqhts",
        "outputId": "d9e43802-e29c-4beb-94a4-f3b49b5deba9"
      },
      "execution_count": null,
      "outputs": [
        {
          "output_type": "execute_result",
          "data": {
            "text/plain": [
              "<torch._C.Generator at 0x79ebc0063e10>"
            ]
          },
          "metadata": {},
          "execution_count": 34
        }
      ]
    },
    {
      "cell_type": "markdown",
      "source": [
        "##**4.1-Scaling up the WaveNet**"
      ],
      "metadata": {
        "id": "DL10M408429K"
      }
    },
    {
      "cell_type": "code",
      "source": [
        "n_embd = 10 # the dimensionality of the character embedding vectors\n",
        "n_hidden = 128 # the number of neurons in the hidden layer of the MLP\n",
        "\n",
        "\n",
        "model = Sequential([\n",
        "    Embedding(vocab_size,n_embd),\n",
        "    FlattenConsecutive(2), Linear(n_embd   * 2, n_hidden, bias = False), BactNorm1d(n_hidden), Tanh(),\n",
        "    FlattenConsecutive(2), Linear(n_hidden * 2, n_hidden, bias = False), BactNorm1d(n_hidden), Tanh(),\n",
        "    FlattenConsecutive(2), Linear(n_hidden * 2, n_hidden, bias = False), BactNorm1d(n_hidden), Tanh(),\n",
        "    Linear(n_hidden,vocab_size),\n",
        "])\n",
        "\n",
        "\n",
        "# parameter init\n",
        "\n",
        "with torch.no_grad():\n",
        "  layers[-1].weight *=0.1 # last layer make less confident\n",
        "\n",
        "print(sum(p.nelement() for p in model.parameters()))\n",
        "\n",
        "parameters = model.parameters()\n",
        "for p in parameters:\n",
        "  p.requires_grad = True"
      ],
      "metadata": {
        "colab": {
          "base_uri": "https://localhost:8080/"
        },
        "id": "9xjMT99qhYXa",
        "outputId": "7f48cce0-ec43-45ed-b7f8-fcf14e6370e1"
      },
      "execution_count": null,
      "outputs": [
        {
          "output_type": "stream",
          "name": "stdout",
          "text": [
            "72617\n"
          ]
        }
      ]
    },
    {
      "cell_type": "code",
      "source": [
        "ix = torch.randint(0,Xtr.shape[0],(4,))\n",
        "Xb, Yb = Xtr[ix],Ytr[ix]\n",
        "logits = model(Xb)"
      ],
      "metadata": {
        "id": "c0OSbNZRsxWQ"
      },
      "execution_count": null,
      "outputs": []
    },
    {
      "cell_type": "code",
      "source": [
        "for layer in model.layers:\n",
        "  print(layer.__class__.__name__,\":\", tuple(layer.out.shape))"
      ],
      "metadata": {
        "colab": {
          "base_uri": "https://localhost:8080/"
        },
        "id": "tAo6AHQTsfG1",
        "outputId": "34d953f7-e54c-44e3-fce6-996aa7e3fd97"
      },
      "execution_count": null,
      "outputs": [
        {
          "output_type": "stream",
          "name": "stdout",
          "text": [
            "Embedding : (4, 8, 10)\n",
            "FlattenConsecutive : (4, 4, 20)\n",
            "Linear : (4, 4, 128)\n",
            "BactNorm1d : (4, 4, 128)\n",
            "Tanh : (4, 4, 128)\n",
            "FlattenConsecutive : (4, 2, 256)\n",
            "Linear : (4, 2, 128)\n",
            "BactNorm1d : (4, 2, 128)\n",
            "Tanh : (4, 2, 128)\n",
            "FlattenConsecutive : (4, 256)\n",
            "Linear : (4, 128)\n",
            "BactNorm1d : (4, 128)\n",
            "Tanh : (4, 128)\n",
            "Linear : (4, 27)\n"
          ]
        }
      ]
    },
    {
      "cell_type": "code",
      "source": [
        "batch_size = 32\n",
        "max_steps = 200000\n",
        "lossi = []\n",
        "\n",
        "for  i in range(max_steps):\n",
        "\n",
        "  # minibatch construct\n",
        "  ix = torch.randint(0,Xtr.shape[0],(batch_size,))\n",
        "  Xb,Yb = Xtr[ix], Ytr[ix] # batch X,Y\n",
        "\n",
        "  # forward pass\n",
        "  logits = model(Xb)\n",
        "  loss = F.cross_entropy(logits, Yb)  # loss function\n",
        "\n",
        "  # backward pass\n",
        "  for p in parameters:\n",
        "    p.grad = None\n",
        "  loss.backward()\n",
        "  # ------------------------------------------------------\n",
        "\n",
        "  # update : simple SGD\n",
        "  lr = 0.1 if i  < 150000 else 0.01 # step learning rate decay\n",
        "  for p  in parameters:\n",
        "    p.data +=-lr*p.grad\n",
        "\n",
        "  # strack stats\n",
        "  if i % 10000 == 0:# print every once in while\n",
        "    print(f'{i:7d}/{max_steps:7d}:{loss.item():.4f}')\n",
        "  lossi.append(loss.log10().item())\n"
      ],
      "metadata": {
        "colab": {
          "base_uri": "https://localhost:8080/"
        },
        "id": "BQMwHfe-2QOV",
        "outputId": "99d69f6a-f9c3-4c9c-e77d-d4682ee12764"
      },
      "execution_count": null,
      "outputs": [
        {
          "output_type": "stream",
          "name": "stdout",
          "text": [
            "      0/ 200000:3.4163\n",
            "  10000/ 200000:2.2020\n",
            "  20000/ 200000:2.0992\n",
            "  30000/ 200000:1.8820\n",
            "  40000/ 200000:2.1453\n",
            "  50000/ 200000:2.3186\n",
            "  60000/ 200000:1.8566\n",
            "  70000/ 200000:1.9653\n",
            "  80000/ 200000:2.1659\n",
            "  90000/ 200000:1.9317\n",
            " 100000/ 200000:2.1039\n",
            " 110000/ 200000:2.0725\n",
            " 120000/ 200000:1.8852\n",
            " 130000/ 200000:1.7610\n",
            " 140000/ 200000:2.1729\n",
            " 150000/ 200000:1.8798\n",
            " 160000/ 200000:2.0190\n",
            " 170000/ 200000:2.0421\n",
            " 180000/ 200000:1.7609\n",
            " 190000/ 200000:1.8824\n"
          ]
        }
      ]
    },
    {
      "cell_type": "code",
      "source": [
        "plt.plot(torch.tensor(lossi).view(-1,1000).mean(1))"
      ],
      "metadata": {
        "colab": {
          "base_uri": "https://localhost:8080/",
          "height": 447
        },
        "id": "kf-UGsMXCO43",
        "outputId": "b66a9090-d582-49e3-84d0-1b1995b22407"
      },
      "execution_count": null,
      "outputs": [
        {
          "output_type": "execute_result",
          "data": {
            "text/plain": [
              "[<matplotlib.lines.Line2D at 0x79eb055d69b0>]"
            ]
          },
          "metadata": {},
          "execution_count": 39
        },
        {
          "output_type": "display_data",
          "data": {
            "text/plain": [
              "<Figure size 640x480 with 1 Axes>"
            ],
            "image/png": "[encoded data removed]"
          },
          "metadata": {}
        }
      ]
    },
    {
      "cell_type": "code",
      "source": [
        "for layer in layers:\n",
        "  layer.training = False"
      ],
      "metadata": {
        "id": "GLUFbL4NGzWv"
      },
      "execution_count": null,
      "outputs": []
    },
    {
      "cell_type": "code",
      "source": [
        "# evaluate loss\n",
        "\n",
        "@torch.no_grad()\n",
        "def split_loss(split):\n",
        "  x,y = {\n",
        "      \"train\" : (Xtr,Ytr),\n",
        "       \"val\" : (Xdev,Ydev),\n",
        "       \"test\" : (Xte,yte),\n",
        "  }[split]\n",
        "\n",
        "  logits = model(x)\n",
        "  loss = F.cross_entropy(logits,y)\n",
        "  print(split,loss.item())\n",
        "\n",
        "split_loss(\"train\")\n",
        "split_loss(\"val\")\n",
        "split_loss(\"test\")"
      ],
      "metadata": {
        "colab": {
          "base_uri": "https://localhost:8080/"
        },
        "id": "yiAWVXAR8fyw",
        "outputId": "d9d18690-68c6-447f-c93e-88b290513bc2"
      },
      "execution_count": null,
      "outputs": [
        {
          "output_type": "stream",
          "name": "stdout",
          "text": [
            "train 1.797673225402832\n",
            "val 2.061986207962036\n",
            "test 2.0607025623321533\n"
          ]
        }
      ]
    },
    {
      "cell_type": "markdown",
      "source": [
        "###**performance log**\n",
        "\n",
        "- flat - hierarchical (22k params)  train 2.091. val 2.1439\n",
        "\n",
        "- Scale up the network:n_embd 24,n_hidden 128 (76k params):train 1.7239. val  2.060"
      ],
      "metadata": {
        "id": "t_xbpP4VB8Gr"
      }
    },
    {
      "cell_type": "code",
      "source": [
        "torch.manual_seed(42)"
      ],
      "metadata": {
        "colab": {
          "base_uri": "https://localhost:8080/"
        },
        "id": "XDM-_9T8FeY-",
        "outputId": "7b8b3d0b-8ce2-43a4-f265-b5c636a4bd31"
      },
      "execution_count": null,
      "outputs": [
        {
          "output_type": "execute_result",
          "data": {
            "text/plain": [
              "<torch._C.Generator at 0x79ebc0063e10>"
            ]
          },
          "metadata": {},
          "execution_count": 42
        }
      ]
    },
    {
      "cell_type": "code",
      "source": [
        "# sampling from  the model\n",
        "\n",
        "for _ in range(20):\n",
        "\n",
        "  out = []\n",
        "  context = [0] * block_size\n",
        "  while True:\n",
        "    # forward pass the neural net\n",
        "    logits = model(torch.tensor([context]))\n",
        "    probs = F.softmax(logits, dim = 1)\n",
        "    # sample from distribuition\n",
        "    ix = torch.multinomial(probs,num_samples = 1).item()\n",
        "    # shift the context window and  track the samples\n",
        "    context = context[1:] + [ix]\n",
        "    out.append(ix)\n",
        "    # if we sample the special '.' token , break\n",
        "    if ix == 0:\n",
        "      break\n",
        "\n",
        "  print(''.join(itos[i] for i in out)) # decode an print the generated word"
      ],
      "metadata": {
        "colab": {
          "base_uri": "https://localhost:8080/"
        },
        "id": "HpS32VF8B6g8",
        "outputId": "89d075e5-dcce-42a7-fa38-24f7584cf727"
      },
      "execution_count": null,
      "outputs": [
        {
          "output_type": "stream",
          "name": "stdout",
          "text": [
            "yeesyaaleaaae.\n",
            "elaekaimaeaonya.\n",
            "eayaieaieenaeaaeelyaaiiaeaa.\n",
            "keaea.\n",
            "as.\n",
            "a.\n",
            "oyaaaaaai.\n",
            "aeioeannezaseoraaalaa.\n",
            "oainaeeenayaaayn.\n",
            "aeoaaartaneaidaemaam.\n",
            "eiaiinyyranycnaiadaayaneaaaeeiaanayskaaoaaaeyaaalni.\n",
            "ieilaaaeieeaoaieeyaylasaaaanioemaiyaaaae.\n",
            "atorsaalelyaiaaesmlsaeeeeaearaaeeeaadeiaalerasliayel.\n",
            "anai.\n",
            "aaiaaaroeiaaoaarl.\n",
            "zaesuenaylaeaii.\n",
            "aaieseaeiaeeyeaaanianlsnnaiaieincatieaailaaanaoneelaiae.\n",
            "sshediolaaaaaeoymaraesiaaraomnniano.\n",
            "eeeaiaadr.\n",
            "rilei.\n"
          ]
        }
      ]
    }
  ]
}